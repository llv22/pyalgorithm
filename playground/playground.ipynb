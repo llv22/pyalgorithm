{
 "cells": [
  {
   "cell_type": "markdown",
   "metadata": {},
   "source": [
    "# Solution for Global Minimial"
   ]
  },
  {
   "cell_type": "code",
   "execution_count": 1,
   "metadata": {},
   "outputs": [],
   "source": [
    "from time import time"
   ]
  },
  {
   "cell_type": "markdown",
   "metadata": {},
   "source": [
    "$$ f(x)=x^3-60x^2-4x+6 $$, 求x在[0,100]范围内f(x)最小值"
   ]
  },
  {
   "cell_type": "markdown",
   "metadata": {},
   "source": [
    "$$f'(x) = 3x^2 - 120x - 4$$\n",
    "\n",
    "$$ x_{n+1} = x_{n} - \\frac{f(x_n)}{f'(x_n)} $$"
   ]
  },
  {
   "cell_type": "markdown",
   "metadata": {},
   "source": [
    "# Newton for f'"
   ]
  },
  {
   "cell_type": "code",
   "execution_count": 2,
   "metadata": {},
   "outputs": [],
   "source": [
    "start = time()"
   ]
  },
  {
   "cell_type": "code",
   "execution_count": 3,
   "metadata": {},
   "outputs": [],
   "source": [
    "x0 = 100\n",
    "x1 = x0 - (3*(x0**2) - 120 * x0 - 4) / (6 * x0 - 120)\n",
    "f_val = (x0 ** 3) - 60 * (x0**2) - 4 * x0 + 6"
   ]
  },
  {
   "cell_type": "code",
   "execution_count": 4,
   "metadata": {},
   "outputs": [],
   "source": [
    "while f_val > 1e-8:\n",
    "    x1 = x0 - (3*(x0**2) - 120 * x0 - 4) / (6 * x0 - 120)\n",
    "    x0 = x1\n",
    "    f_val = 3*(x0**2) - 120 * x0 - 4"
   ]
  },
  {
   "cell_type": "code",
   "execution_count": 5,
   "metadata": {},
   "outputs": [
    {
     "name": "stdout",
     "output_type": "stream",
     "text": [
      "Newton method for f' is about : 0.02 seconds\n"
     ]
    }
   ],
   "source": [
    "print(\"Newton method for f' is about : %0.2f seconds\" % (time() - start))"
   ]
  },
  {
   "cell_type": "code",
   "execution_count": 6,
   "metadata": {},
   "outputs": [
    {
     "data": {
      "text/plain": [
       "40.03330560175586"
      ]
     },
     "execution_count": 6,
     "metadata": {},
     "output_type": "execute_result"
    }
   ],
   "source": [
    "x0"
   ]
  },
  {
   "cell_type": "code",
   "execution_count": 7,
   "metadata": {},
   "outputs": [
    {
     "data": {
      "text/plain": [
       "-32154.06662967586"
      ]
     },
     "execution_count": 7,
     "metadata": {},
     "output_type": "execute_result"
    }
   ],
   "source": [
    "(x0 ** 3) - 60 * (x0**2) - 4 * x0 + 6"
   ]
  },
  {
   "cell_type": "markdown",
   "metadata": {},
   "source": [
    "# Gradient Descent\n",
    "\n",
    "$$ f(x)=x^3-60x^2-4x+6 $$"
   ]
  },
  {
   "cell_type": "code",
   "execution_count": 8,
   "metadata": {},
   "outputs": [],
   "source": [
    "import tensorflow as tf\n",
    "from tensorflow.train import AdamOptimizer"
   ]
  },
  {
   "cell_type": "code",
   "execution_count": 9,
   "metadata": {},
   "outputs": [],
   "source": [
    "start = time()"
   ]
  },
  {
   "cell_type": "code",
   "execution_count": 10,
   "metadata": {},
   "outputs": [],
   "source": [
    "x = tf.get_variable('x', initializer=tf.constant(100.0))\n",
    "y = x * x * x - 60 * x * x - 4 * x + 6"
   ]
  },
  {
   "cell_type": "code",
   "execution_count": 11,
   "metadata": {},
   "outputs": [
    {
     "name": "stdout",
     "output_type": "stream",
     "text": [
      "40.034805\n"
     ]
    }
   ],
   "source": [
    "optimizer = AdamOptimizer(learning_rate=1e-2).minimize(y)\n",
    "\n",
    "with tf.Session() as sess:\n",
    "    sess.run(tf.global_variables_initializer())\n",
    "    for _ in range(50000):\n",
    "        sess.run(optimizer)\n",
    "    print(sess.run(x))"
   ]
  },
  {
   "cell_type": "code",
   "execution_count": 12,
   "metadata": {},
   "outputs": [
    {
     "name": "stdout",
     "output_type": "stream",
     "text": [
      "Gradient Descent for y is about : 11.93 seconds\n"
     ]
    }
   ],
   "source": [
    "print(\"Gradient Descent for y is about : %0.2f seconds\" % (time() - start))"
   ]
  },
  {
   "cell_type": "markdown",
   "metadata": {},
   "source": [
    "# Binary Search\n",
    "\n",
    "similiar to Newton method from [0, 100]. Somehow simple, just skip it"
   ]
  },
  {
   "cell_type": "markdown",
   "metadata": {},
   "source": [
    "# MCTS"
   ]
  },
  {
   "cell_type": "code",
   "execution_count": 13,
   "metadata": {},
   "outputs": [],
   "source": [
    "import random"
   ]
  },
  {
   "cell_type": "code",
   "execution_count": 14,
   "metadata": {},
   "outputs": [],
   "source": [
    "start = time()"
   ]
  },
  {
   "cell_type": "code",
   "execution_count": 15,
   "metadata": {},
   "outputs": [],
   "source": [
    "min_val = (lambda x: x**3 + 6)(100)\n",
    "solution = 100\n",
    "best_step = 0\n",
    "delta_value = 100000; delta_no_improve = 0\n",
    "fv_pre = (lambda v: v**3 - 60 * (v**2) - 4 * v + 6)(solution)\n",
    "i = 0\n",
    "# for i in range(1000000):\n",
    "#     1. only integer number\n",
    "#     v = random.randrange(0, 100.0)\n",
    "#     2. sample uniform between [0, 1) * 100.0\n",
    "while delta_no_improve < 200000:\n",
    "    v = random.random() * 100\n",
    "    fv = (lambda v: v**3 - 60 * (v**2) - 4 * v + 6)(v)\n",
    "    if min_val > fv:\n",
    "        min_val = fv\n",
    "        solution = v\n",
    "        best_step = i\n",
    "        delta_value = 100000; delta_no_improve = 0\n",
    "    else:\n",
    "        if abs(fv_pre - fv) < delta_value:\n",
    "            delta_value = abs(fv_pre - fv)\n",
    "        else:\n",
    "            delta_no_improve += 1\n",
    "    fv_pre = fv; i += 1"
   ]
  },
  {
   "cell_type": "code",
   "execution_count": 16,
   "metadata": {},
   "outputs": [
    {
     "name": "stdout",
     "output_type": "stream",
     "text": [
      "Random MCTS is about : 0.36 seconds\n"
     ]
    }
   ],
   "source": [
    "print(\"Random MCTS is about : %0.2f seconds\" % (time() - start))"
   ]
  },
  {
   "cell_type": "code",
   "execution_count": 17,
   "metadata": {},
   "outputs": [
    {
     "data": {
      "text/plain": [
       "0.12307333269200171"
      ]
     },
     "execution_count": 17,
     "metadata": {},
     "output_type": "execute_result"
    }
   ],
   "source": [
    "delta_value"
   ]
  },
  {
   "cell_type": "code",
   "execution_count": 18,
   "metadata": {},
   "outputs": [
    {
     "data": {
      "text/plain": [
       "200000"
      ]
     },
     "execution_count": 18,
     "metadata": {},
     "output_type": "execute_result"
    }
   ],
   "source": [
    "delta_no_improve"
   ]
  },
  {
   "cell_type": "code",
   "execution_count": 19,
   "metadata": {},
   "outputs": [
    {
     "data": {
      "text/plain": [
       "-32154.066629492823"
      ]
     },
     "execution_count": 19,
     "metadata": {},
     "output_type": "execute_result"
    }
   ],
   "source": [
    "min_val"
   ]
  },
  {
   "cell_type": "code",
   "execution_count": 20,
   "metadata": {},
   "outputs": [
    {
     "data": {
      "text/plain": [
       "151372"
      ]
     },
     "execution_count": 20,
     "metadata": {},
     "output_type": "execute_result"
    }
   ],
   "source": [
    "best_step"
   ]
  },
  {
   "cell_type": "code",
   "execution_count": 21,
   "metadata": {},
   "outputs": [
    {
     "data": {
      "text/plain": [
       "40.03325041638389"
      ]
     },
     "execution_count": 21,
     "metadata": {},
     "output_type": "execute_result"
    }
   ],
   "source": [
    "solution"
   ]
  },
  {
   "cell_type": "markdown",
   "metadata": {},
   "source": [
    "# MCTS - Exploration with f' as penality\n",
    "\n",
    "Sample with **Uniform Distribution** to select better seed"
   ]
  },
  {
   "cell_type": "code",
   "execution_count": 22,
   "metadata": {},
   "outputs": [],
   "source": [
    "import random\n",
    "import numpy as np"
   ]
  },
  {
   "cell_type": "code",
   "execution_count": 23,
   "metadata": {},
   "outputs": [],
   "source": [
    "start = time()"
   ]
  },
  {
   "cell_type": "code",
   "execution_count": 24,
   "metadata": {},
   "outputs": [],
   "source": [
    "min_val = (lambda x: x**3 + 6)(100)\n",
    "solution = 100\n",
    "best_penality = 1000000\n",
    "best_step = 0\n",
    "no_improve = 0\n",
    "seed = 0\n",
    "minv_region = 1; maxv_region = -1; sample_region_n = 0\n",
    "delta_value = 100000; delta_no_improve = 0\n",
    "fv_pre = (lambda v: v**3 - 60 * (v**2) - 4 * v + 6)(solution)\n",
    "i = 0\n",
    "\n",
    "while delta_no_improve < 200000:\n",
    "# for i in range(1000000):\n",
    "    if no_improve < 10000 or sample_region_n < 100:\n",
    "        seed = random.random()\n",
    "    else:\n",
    "        # uniform seems still not very good, how about gaussion?\n",
    "        seed = np.random.uniform(minv_region, maxv_region)\n",
    "    v = seed * 100\n",
    "    fv = (lambda v: v**3 - 60*(v**2) - 4 * v + 6)(v)\n",
    "    penality = (lambda x: x**3 - 60*(x**2) - 4*x + 6)(v)\n",
    "    if abs(penality) < best_penality:\n",
    "        best_penality = abs(penality)\n",
    "        no_improve = 0\n",
    "        minv_region = 1; maxv_region = -1; sample_region_n = 0\n",
    "    else:\n",
    "        no_improve += 1\n",
    "        if no_improve > 10000:\n",
    "            if v > maxv_region:\n",
    "                maxv_region = seed\n",
    "            if v < minv_region:\n",
    "                minv_region = seed\n",
    "            sample_region_n += 1\n",
    "        \n",
    "    if min_val > fv:\n",
    "        min_val = fv\n",
    "        solution = v\n",
    "        best_step = i\n",
    "    else:\n",
    "        if abs(fv_pre - fv) < delta_value:\n",
    "            delta_value = abs(fv_pre - fv)\n",
    "        else:\n",
    "            delta_no_improve += 1\n",
    "    fv_pre = fv; i += 1"
   ]
  },
  {
   "cell_type": "code",
   "execution_count": 25,
   "metadata": {
    "scrolled": true
   },
   "outputs": [
    {
     "name": "stdout",
     "output_type": "stream",
     "text": [
      "MCTS with uniform sampling for exploration is about : 0.61 seconds\n"
     ]
    }
   ],
   "source": [
    "print(\"MCTS with uniform sampling for exploration is about : %0.2f seconds\" % (time() - start))"
   ]
  },
  {
   "cell_type": "code",
   "execution_count": 26,
   "metadata": {},
   "outputs": [
    {
     "data": {
      "text/plain": [
       "0.0"
      ]
     },
     "execution_count": 26,
     "metadata": {},
     "output_type": "execute_result"
    }
   ],
   "source": [
    "delta_value"
   ]
  },
  {
   "cell_type": "code",
   "execution_count": 27,
   "metadata": {},
   "outputs": [
    {
     "data": {
      "text/plain": [
       "200000"
      ]
     },
     "execution_count": 27,
     "metadata": {},
     "output_type": "execute_result"
    }
   ],
   "source": [
    "delta_no_improve"
   ]
  },
  {
   "cell_type": "code",
   "execution_count": 28,
   "metadata": {},
   "outputs": [
    {
     "data": {
      "text/plain": [
       "-32154.066376910876"
      ]
     },
     "execution_count": 28,
     "metadata": {},
     "output_type": "execute_result"
    }
   ],
   "source": [
    "min_val"
   ]
  },
  {
   "cell_type": "code",
   "execution_count": 29,
   "metadata": {},
   "outputs": [
    {
     "data": {
      "text/plain": [
       "40.03535635828786"
      ]
     },
     "execution_count": 29,
     "metadata": {},
     "output_type": "execute_result"
    }
   ],
   "source": [
    "solution"
   ]
  },
  {
   "cell_type": "code",
   "execution_count": 30,
   "metadata": {},
   "outputs": [
    {
     "data": {
      "text/plain": [
       "10633"
      ]
     },
     "execution_count": 30,
     "metadata": {},
     "output_type": "execute_result"
    }
   ],
   "source": [
    "best_step"
   ]
  },
  {
   "cell_type": "markdown",
   "metadata": {},
   "source": [
    "# MCTS - Exploration with f' as penality\n",
    "\n",
    "Sample with **Gaussion Distribution** to select better seed\n",
    "\n",
    "Too costy for calcuation of $\\delta$ for Gaussian distribution, set $\\delta$ = 0.01"
   ]
  },
  {
   "cell_type": "code",
   "execution_count": 31,
   "metadata": {},
   "outputs": [],
   "source": [
    "import random\n",
    "import numpy as np"
   ]
  },
  {
   "cell_type": "code",
   "execution_count": 32,
   "metadata": {},
   "outputs": [],
   "source": [
    "start = time()"
   ]
  },
  {
   "cell_type": "code",
   "execution_count": 33,
   "metadata": {},
   "outputs": [],
   "source": [
    "min_val = (lambda x: x**3 + 6)(100)\n",
    "solution = 100\n",
    "best_penality = 1000000\n",
    "best_step = 0\n",
    "no_improve = 0\n",
    "seed = 0\n",
    "minv_region = 1; maxv_region = -1; sample_region_n = 0; sample_mean = 0\n",
    "delta_value = 100000; delta_no_improve = 0\n",
    "fv_pre = (lambda v: v**3 - 60 * (v**2) - 4 * v + 6)(solution)\n",
    "i = 0\n",
    "\n",
    "while delta_no_improve < 200000:\n",
    "# for i in range(1000000):\n",
    "    if no_improve < 10000 or sample_region_n < 1000:\n",
    "        seed = random.random()\n",
    "    else:\n",
    "        # uniform seems still not very good, how about gaussion?\n",
    "        seed = np.random.normal(sample_mean, 0.01, 1)[0]\n",
    "    v = seed * 100\n",
    "    fv = (lambda v: v**3 - 60*(v**2) - 4 * v + 6)(v)\n",
    "    penality = (lambda x: x**3 - 60*(x**2) - 4*x + 6)(v)\n",
    "    if abs(penality) < best_penality:\n",
    "        best_penality = abs(penality)\n",
    "        no_improve = 0\n",
    "        minv_region = 1; maxv_region = -1; sample_region_n = 0\n",
    "    else:\n",
    "        no_improve += 1\n",
    "        if no_improve > 10000:\n",
    "            if v > maxv_region:\n",
    "                maxv_region = seed\n",
    "            if v < minv_region:\n",
    "                minv_region = seed\n",
    "            sample_mean = (sample_region_n * sample_mean + seed) / (sample_region_n + 1)\n",
    "            sample_region_n += 1\n",
    "        \n",
    "    if min_val > fv:\n",
    "        min_val = fv\n",
    "        solution = v\n",
    "        best_step = i\n",
    "    else:\n",
    "        if abs(fv_pre - fv) < delta_value:\n",
    "            delta_value = abs(fv_pre - fv)\n",
    "        else:\n",
    "            delta_no_improve += 1\n",
    "    fv_pre = fv; i += 1"
   ]
  },
  {
   "cell_type": "code",
   "execution_count": 34,
   "metadata": {},
   "outputs": [
    {
     "name": "stdout",
     "output_type": "stream",
     "text": [
      "MCTS with gaussion sampling for exploration is about : 1.74 seconds\n"
     ]
    }
   ],
   "source": [
    "print(\"MCTS with gaussion sampling for exploration is about : %0.2f seconds\" % (time() - start))"
   ]
  },
  {
   "cell_type": "code",
   "execution_count": 35,
   "metadata": {},
   "outputs": [
    {
     "data": {
      "text/plain": [
       "0.04919455462368205"
      ]
     },
     "execution_count": 35,
     "metadata": {},
     "output_type": "execute_result"
    }
   ],
   "source": [
    "delta_value"
   ]
  },
  {
   "cell_type": "code",
   "execution_count": 36,
   "metadata": {},
   "outputs": [
    {
     "data": {
      "text/plain": [
       "200000"
      ]
     },
     "execution_count": 36,
     "metadata": {},
     "output_type": "execute_result"
    }
   ],
   "source": [
    "delta_no_improve"
   ]
  },
  {
   "cell_type": "code",
   "execution_count": 37,
   "metadata": {},
   "outputs": [
    {
     "data": {
      "text/plain": [
       "-32154.06634607454"
      ]
     },
     "execution_count": 37,
     "metadata": {},
     "output_type": "execute_result"
    }
   ],
   "source": [
    "min_val"
   ]
  },
  {
   "cell_type": "code",
   "execution_count": 38,
   "metadata": {},
   "outputs": [
    {
     "data": {
      "text/plain": [
       "40.03547784935626"
      ]
     },
     "execution_count": 38,
     "metadata": {},
     "output_type": "execute_result"
    }
   ],
   "source": [
    "solution"
   ]
  },
  {
   "cell_type": "code",
   "execution_count": 39,
   "metadata": {},
   "outputs": [
    {
     "data": {
      "text/plain": [
       "9028"
      ]
     },
     "execution_count": 39,
     "metadata": {},
     "output_type": "execute_result"
    }
   ],
   "source": [
    "best_step"
   ]
  },
  {
   "cell_type": "code",
   "execution_count": null,
   "metadata": {},
   "outputs": [],
   "source": []
  }
 ],
 "metadata": {
  "jupytext": {
   "formats": "ipynb,py:light",
   "text_representation": {
    "extension": ".py",
    "format_name": "light",
    "format_version": "1.3",
    "jupytext_version": "0.8.2"
   }
  },
  "kernelspec": {
   "display_name": "Python 3",
   "language": "python",
   "name": "python3"
  },
  "language_info": {
   "codemirror_mode": {
    "name": "ipython",
    "version": 3
   },
   "file_extension": ".py",
   "mimetype": "text/x-python",
   "name": "python",
   "nbconvert_exporter": "python",
   "pygments_lexer": "ipython3",
   "version": "3.6.7"
  }
 },
 "nbformat": 4,
 "nbformat_minor": 2
}
