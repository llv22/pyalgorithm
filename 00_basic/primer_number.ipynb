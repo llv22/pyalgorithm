{
 "cells": [
  {
   "cell_type": "markdown",
   "metadata": {},
   "source": [
    "# Primer Puzzle\n",
    "\n",
    "## Version 1\n",
    "\n",
    "Suppose in a arr, which has a number occured more than 50% of total array elements. could you find it?\n",
    "\n",
    "leetcode reference: https://leetcode.com/problems/majority-element/ "
   ]
  },
  {
   "cell_type": "code",
   "execution_count": 1,
   "metadata": {},
   "outputs": [],
   "source": [
    "import numpy as np\n",
    "from collections import Counter"
   ]
  },
  {
   "cell_type": "code",
   "execution_count": 2,
   "metadata": {},
   "outputs": [
    {
     "data": {
      "text/plain": [
       "(10, 3)"
      ]
     },
     "execution_count": 2,
     "metadata": {},
     "output_type": "execute_result"
    }
   ],
   "source": [
    "# sample an array with element more than 50% in array\n",
    "s = (np.random.dirichlet((9, 0.5, 0.5), 10) * 10).astype(int)\n",
    "s.shape"
   ]
  },
  {
   "cell_type": "code",
   "execution_count": 3,
   "metadata": {},
   "outputs": [],
   "source": [
    "arr = s.flatten()\n",
    "arr_counter = dict(Counter(arr))\n",
    "assert np.any(np.greater(list(arr_counter.values()), (len(arr) // 2)))"
   ]
  },
  {
   "cell_type": "code",
   "execution_count": 4,
   "metadata": {},
   "outputs": [
    {
     "data": {
      "text/plain": [
       "array([9, 0, 0, 6, 0, 3, 7, 0, 2, 9, 0, 0, 9, 0, 0, 8, 0, 0, 9, 0, 0, 7,\n",
       "       0, 2, 9, 0, 0, 9, 0, 0])"
      ]
     },
     "execution_count": 4,
     "metadata": {},
     "output_type": "execute_result"
    }
   ],
   "source": [
    "arr"
   ]
  },
  {
   "cell_type": "code",
   "execution_count": 5,
   "metadata": {},
   "outputs": [
    {
     "data": {
      "text/plain": [
       "{9: 6, 0: 17, 6: 1, 3: 1, 7: 2, 2: 2, 8: 1}"
      ]
     },
     "execution_count": 5,
     "metadata": {},
     "output_type": "execute_result"
    }
   ],
   "source": [
    "arr_counter"
   ]
  },
  {
   "cell_type": "code",
   "execution_count": 6,
   "metadata": {},
   "outputs": [],
   "source": [
    "def primer(arr:[int]):\n",
    "    counter = 1; index = 0\n",
    "    for i in range(1, len(arr)):\n",
    "        if arr[i] == arr[index]:\n",
    "            counter += 1\n",
    "        else:\n",
    "            counter -= 1\n",
    "            if counter == 0:\n",
    "                index = i\n",
    "                counter = 1\n",
    "    if counter > 0:\n",
    "        return arr[index]\n",
    "    else:\n",
    "        return -1"
   ]
  },
  {
   "cell_type": "code",
   "execution_count": 7,
   "metadata": {},
   "outputs": [
    {
     "data": {
      "text/plain": [
       "0"
      ]
     },
     "execution_count": 7,
     "metadata": {},
     "output_type": "execute_result"
    }
   ],
   "source": [
    "primer(arr)"
   ]
  },
  {
   "cell_type": "code",
   "execution_count": 8,
   "metadata": {},
   "outputs": [
    {
     "data": {
      "text/plain": [
       "1"
      ]
     },
     "execution_count": 8,
     "metadata": {},
     "output_type": "execute_result"
    }
   ],
   "source": [
    "primer([0, 1, 0, 1, 0, 1, 0, 1, 1])"
   ]
  },
  {
   "cell_type": "markdown",
   "metadata": {},
   "source": [
    "## Version 2\n",
    "\n",
    "Given an integer array of size n, find all elements that appear more than ⌊ n/3 ⌋ times.  \n",
    "Note: The algorithm should run in linear time and in O(1) space.\n",
    "\n",
    "* Example 1:\n",
    "```bash\n",
    "Input: [3,2,3]\n",
    "Output: [3]\n",
    "```\n",
    "\n",
    "* Example 2:\n",
    "```bash\n",
    "Input: [1,1,1,3,3,2,2,2]\n",
    "Output: [1,2]\n",
    "```\n",
    "\n",
    "leetcode reference: https://leetcode.com/problems/majority-element-ii/"
   ]
  },
  {
   "cell_type": "code",
   "execution_count": null,
   "metadata": {},
   "outputs": [],
   "source": []
  }
 ],
 "metadata": {
  "kernelspec": {
   "display_name": "Python 3",
   "language": "python",
   "name": "python3"
  },
  "language_info": {
   "codemirror_mode": {
    "name": "ipython",
    "version": 3
   },
   "file_extension": ".py",
   "mimetype": "text/x-python",
   "name": "python",
   "nbconvert_exporter": "python",
   "pygments_lexer": "ipython3",
   "version": "3.6.6"
  }
 },
 "nbformat": 4,
 "nbformat_minor": 2
}
