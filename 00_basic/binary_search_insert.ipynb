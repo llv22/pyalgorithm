{
 "cells": [
  {
   "cell_type": "code",
   "execution_count": 1,
   "metadata": {},
   "outputs": [],
   "source": [
    "import numpy as np"
   ]
  },
  {
   "cell_type": "code",
   "execution_count": 2,
   "metadata": {},
   "outputs": [
    {
     "name": "stdout",
     "output_type": "stream",
     "text": [
      "[0, 3, 4, 5, 9, 9, 10, 10, 12, 12, 13, 14, 14, 15, 15, 16, 16, 18, 20, 24, 26, 27, 28, 30, 31, 34, 35, 36, 37, 37, 38, 38, 41, 41, 42, 42, 44, 44, 45, 47, 47, 47, 49, 50, 52, 52, 52, 54, 55, 57, 60, 60, 60, 62, 62, 64, 64, 64, 65, 65, 67, 67, 68, 71, 71, 71, 72, 74, 74, 74, 75, 75, 76, 76, 76, 77, 77, 78, 79, 79, 82, 83, 84, 84, 85, 86, 89, 89, 89, 90, 91, 91, 92, 93, 96, 97, 97, 98, 98, 99]\n"
     ]
    }
   ],
   "source": [
    "arr = sorted((np.random.rand(100) * 100).astype(int))\n",
    "print(arr)"
   ]
  },
  {
   "cell_type": "code",
   "execution_count": 3,
   "metadata": {},
   "outputs": [],
   "source": [
    "def findless_biggest(arr:[int], tar:int):\n",
    "    if len(arr) == 0:\n",
    "        return -1\n",
    "    elif len(arr) == 1:\n",
    "        if arr[0] < tar:\n",
    "            return 0\n",
    "        else:\n",
    "            return -1\n",
    "    # len(arr) >= 2\n",
    "    l = 0; r = len(arr) - 1\n",
    "    while l < r - 1:\n",
    "        mid = l + (r - l) // 2\n",
    "        if tar <= arr[mid]:\n",
    "            r = mid - 1\n",
    "        else:\n",
    "            l = mid + 1\n",
    "    # still arr[l] < arr[r] and l == r -1\n",
    "    if arr[r] < tar:\n",
    "        return r\n",
    "    elif arr[l] < tar:\n",
    "        return l\n",
    "    else:\n",
    "        return -1"
   ]
  },
  {
   "cell_type": "code",
   "execution_count": 4,
   "metadata": {},
   "outputs": [
    {
     "data": {
      "text/plain": [
       "1"
      ]
     },
     "execution_count": 4,
     "metadata": {},
     "output_type": "execute_result"
    }
   ],
   "source": [
    "findless_biggest(arr, 4)"
   ]
  },
  {
   "cell_type": "code",
   "execution_count": 5,
   "metadata": {},
   "outputs": [
    {
     "data": {
      "text/plain": [
       "3"
      ]
     },
     "execution_count": 5,
     "metadata": {},
     "output_type": "execute_result"
    }
   ],
   "source": [
    "findless_biggest(arr, 8)"
   ]
  },
  {
   "cell_type": "code",
   "execution_count": 6,
   "metadata": {},
   "outputs": [
    {
     "data": {
      "text/plain": [
       "0"
      ]
     },
     "execution_count": 6,
     "metadata": {},
     "output_type": "execute_result"
    }
   ],
   "source": [
    "findless_biggest(arr, 1)"
   ]
  },
  {
   "cell_type": "code",
   "execution_count": 7,
   "metadata": {},
   "outputs": [],
   "source": [
    "def findgreater_least(arr:[int], tar:int):\n",
    "    if len(arr) == 0:\n",
    "        return -1\n",
    "    elif len(arr) == 1:\n",
    "        if arr[0] > tar:\n",
    "            return 0\n",
    "        else:\n",
    "            return -1\n",
    "    l = 0; r = len(arr) - 1\n",
    "    while l < r - 1:\n",
    "        mid = l + (r - l) // 2\n",
    "        if tar < arr[mid]:\n",
    "            r = mid - 1\n",
    "        else:\n",
    "            l = mid + 1\n",
    "    # l + 1 = r and arr[l] <= arr[r]\n",
    "    if arr[l] > tar:\n",
    "        return l\n",
    "    elif arr[r] > tar:\n",
    "        return r\n",
    "    else:\n",
    "        return -1"
   ]
  },
  {
   "cell_type": "code",
   "execution_count": 8,
   "metadata": {},
   "outputs": [
    {
     "data": {
      "text/plain": [
       "3"
      ]
     },
     "execution_count": 8,
     "metadata": {},
     "output_type": "execute_result"
    }
   ],
   "source": [
    "findgreater_least(arr, 4)"
   ]
  },
  {
   "cell_type": "code",
   "execution_count": 9,
   "metadata": {},
   "outputs": [
    {
     "data": {
      "text/plain": [
       "4"
      ]
     },
     "execution_count": 9,
     "metadata": {},
     "output_type": "execute_result"
    }
   ],
   "source": [
    "findgreater_least(arr, 8)"
   ]
  },
  {
   "cell_type": "code",
   "execution_count": null,
   "metadata": {},
   "outputs": [],
   "source": []
  }
 ],
 "metadata": {
  "kernelspec": {
   "display_name": "Python 3",
   "language": "python",
   "name": "python3"
  },
  "language_info": {
   "codemirror_mode": {
    "name": "ipython",
    "version": 3
   },
   "file_extension": ".py",
   "mimetype": "text/x-python",
   "name": "python",
   "nbconvert_exporter": "python",
   "pygments_lexer": "ipython3",
   "version": "3.6.6"
  }
 },
 "nbformat": 4,
 "nbformat_minor": 2
}
