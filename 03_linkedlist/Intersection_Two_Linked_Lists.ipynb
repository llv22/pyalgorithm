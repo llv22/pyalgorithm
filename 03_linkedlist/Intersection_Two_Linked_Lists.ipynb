{
 "cells": [
  {
   "cell_type": "markdown",
   "metadata": {},
   "source": [
    "# 160. Intersection of Two Linked Lists"
   ]
  },
  {
   "cell_type": "markdown",
   "metadata": {},
   "source": [
    "Write a program to find the node at which the intersection of two singly linked lists begins.\n",
    "\n",
    "\n",
    "For example, the following two linked lists:\n",
    "\n",
    "```bash\n",
    "A:          a1 → a2\n",
    "                   ↘\n",
    "                     c1 → c2 → c3\n",
    "                   ↗            \n",
    "B:     b1 → b2 → b3\n",
    "```\n",
    "\n",
    "begin to intersect at node c1.\n",
    "\n",
    "\n",
    "Notes:\n",
    "\n",
    "* If the two linked lists have no intersection at all, return null.\n",
    "* The linked lists must retain their original structure after the function returns.\n",
    "* You may assume there are no cycles anywhere in the entire linked structure.\n",
    "* Your code should preferably run in O(n) time and use only O(1) memory.\n",
    "\n",
    "Status: Passed - 192 ms"
   ]
  },
  {
   "cell_type": "markdown",
   "metadata": {},
   "source": [
    "Analysis:\n",
    "\n",
    "<img src=\"analysis.jpg\"/>"
   ]
  },
  {
   "cell_type": "code",
   "execution_count": 1,
   "metadata": {},
   "outputs": [],
   "source": [
    "# Definition for singly-linked list.\n",
    "# class ListNode(object):\n",
    "#     def __init__(self, x):\n",
    "#         self.val = x\n",
    "#         self.next = None\n",
    "\n",
    "class Solution(object):\n",
    "    def getIntersectionNode(self, headA, headB):\n",
    "        \"\"\"\n",
    "        :type head1, head1: ListNode\n",
    "        :rtype: ListNode\n",
    "        \"\"\"\n",
    "        if not headA or not headB:\n",
    "            return None\n",
    "        # check if they are on the same node, when reaching the tail\n",
    "        p1=headA; p2=headB\n",
    "        while p1.next:\n",
    "            p1=p1.next\n",
    "        while p2.next:\n",
    "            p2=p2.next\n",
    "        if p1!=p2:\n",
    "            return None\n",
    "        # now to check the intersection part, they will definitely meet for 2 intersection, refer to my prove in \n",
    "        p1=headA; p2=headB\n",
    "        while p1!=p2:\n",
    "            p1=p1.next\n",
    "            if not p1:\n",
    "                # then redirect to headB\n",
    "                p1=headB\n",
    "            p2=p2.next\n",
    "            if not p2:\n",
    "                # then redirect to headA\n",
    "                p2=headA\n",
    "        # after x1 step after first intersection, they will meet\n",
    "        return p1"
   ]
  },
  {
   "cell_type": "code",
   "execution_count": 2,
   "metadata": {},
   "outputs": [],
   "source": [
    "def stringToListNode(input):\n",
    "    # Generate list from the input\n",
    "    numbers = json.loads(input)\n",
    "\n",
    "    # Now convert that list into linked list\n",
    "    dummyRoot = ListNode(0)\n",
    "    ptr = dummyRoot\n",
    "    for number in numbers:\n",
    "        ptr.next = ListNode(number)\n",
    "        ptr = ptr.next\n",
    "\n",
    "    ptr = dummyRoot.next\n",
    "    return ptr"
   ]
  },
  {
   "cell_type": "code",
   "execution_count": 3,
   "metadata": {},
   "outputs": [],
   "source": [
    "def listNodeToString(node):\n",
    "    if not node:\n",
    "        return \"[]\"\n",
    "\n",
    "    result = \"\"\n",
    "    while node:\n",
    "        result += str(node.val) + \", \"\n",
    "        node = node.next\n",
    "    return \"[\" + result[:-2] + \"]\""
   ]
  },
  {
   "cell_type": "code",
   "execution_count": 4,
   "metadata": {},
   "outputs": [],
   "source": [
    "def main():\n",
    "    import sys\n",
    "    def readlines():\n",
    "        for line in sys.stdin:\n",
    "            yield line.strip('\\n')\n",
    "    lines = readlines()\n",
    "    while True:\n",
    "        try:\n",
    "            # fix issue, metioned in https://blog.csdn.net/gaifuxi9518/article/details/81059938\n",
    "            line = lines.__next__()\n",
    "            headA = stringToListNode(line)\n",
    "            line = lines.__next__()\n",
    "            headB = stringToListNode(line)\n",
    "            \n",
    "            ret = Solution().getIntersectionNode(headA, headB)\n",
    "\n",
    "            out = listNodeToString(ret)\n",
    "            print(out)\n",
    "        except StopIteration:\n",
    "            break"
   ]
  },
  {
   "cell_type": "code",
   "execution_count": 5,
   "metadata": {},
   "outputs": [],
   "source": [
    "if __name__ == '__main__':\n",
    "    main()"
   ]
  }
 ],
 "metadata": {
  "jupytext": {
   "formats": "ipynb,py:light",
   "text_representation": {
    "extension": ".py",
    "format_name": "light",
    "format_version": "1.3",
    "jupytext_version": "0.8.2"
   }
  },
  "kernelspec": {
   "display_name": "Python 3",
   "language": "python",
   "name": "python3"
  },
  "language_info": {
   "codemirror_mode": {
    "name": "ipython",
    "version": 3
   },
   "file_extension": ".py",
   "mimetype": "text/x-python",
   "name": "python",
   "nbconvert_exporter": "python",
   "pygments_lexer": "ipython3",
   "version": "3.6.7"
  }
 },
 "nbformat": 4,
 "nbformat_minor": 2
}
