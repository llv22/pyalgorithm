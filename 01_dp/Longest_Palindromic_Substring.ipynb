{
 "cells": [
  {
   "cell_type": "markdown",
   "metadata": {},
   "source": [
    "# 5. Longest Palindromic Substring\n",
    "\n",
    "Reference: https://leetcode.com/problems/longest-palindromic-substring/\n",
    "\n",
    "Given a string s, find the longest palindromic substring in s. You may assume that the maximum length of s is 1000.\n",
    "\n",
    "Example 1:\n",
    "```basg\n",
    "Input: \"babad\"\n",
    "Output: \"bab\"\n",
    "Note: \"aba\" is also a valid answer.\n",
    "```\n",
    "\n",
    "Example 2:\n",
    "```bash\n",
    "Input: \"cbbd\"\n",
    "Output: \"bb\"\n",
    "```"
   ]
  },
  {
   "cell_type": "code",
   "execution_count": 1,
   "metadata": {},
   "outputs": [],
   "source": [
    "class Solution:\n",
    "    def longestPalindrome(self, s):\n",
    "        \"\"\"\n",
    "        :type s: str\n",
    "        :rtype: str\n",
    "        \"\"\"\n",
    "        l = len(s)\n",
    "        ## issue:\n",
    "        # dp = [[False] * l] * l\n",
    "        # modify the reference in 2-dimension array\n",
    "        dp = [[False for _ in range(l)] for _ in range(l)]\n",
    "        lbegin = 0; maxlen = 1\n",
    "        for i in range(l):\n",
    "            dp[i][i] = True\n",
    "        for i in range(l-1):\n",
    "            if s[i] == s[i+1]:\n",
    "                dp[i][i+1] = True\n",
    "                lbegin = i; maxlen = 2\n",
    "        for i in range(l-3, -1, -1):\n",
    "            for j in range(i+2, l):\n",
    "                if s[i] == s[j] and dp[i+1][j-1]:\n",
    "                    dp[i][j] = True\n",
    "                    if j-i+1>maxlen:\n",
    "                        lbegin = i;maxlen = j-i+1 \n",
    "        return s[lbegin:lbegin+maxlen]"
   ]
  },
  {
   "cell_type": "code",
   "execution_count": 2,
   "metadata": {},
   "outputs": [],
   "source": [
    "def stringToString(input):\n",
    "    import json\n",
    "    return json.loads(input)"
   ]
  },
  {
   "cell_type": "code",
   "execution_count": 3,
   "metadata": {},
   "outputs": [],
   "source": [
    "def main():\n",
    "    import sys\n",
    "    import io\n",
    "    def readlines():\n",
    "        for line in io.TextIOWrapper(sys.stdin.buffer, encoding='utf-8'):\n",
    "            yield line.strip('\\n')\n",
    "\n",
    "    lines = readlines()\n",
    "    while True:\n",
    "        try:\n",
    "            line = next(lines)\n",
    "            s = stringToString(line);\n",
    "            \n",
    "            ret = Solution().longestPalindrome(s)\n",
    "\n",
    "            out = (ret);\n",
    "            print(out)\n",
    "        except StopIteration:\n",
    "            break"
   ]
  },
  {
   "cell_type": "code",
   "execution_count": 4,
   "metadata": {},
   "outputs": [],
   "source": [
    "if __name__ == '__main__':\n",
    "    main()"
   ]
  }
 ],
 "metadata": {
  "jupytext": {
   "formats": "ipynb,py:light",
   "text_representation": {
    "extension": ".py",
    "format_name": "light",
    "format_version": "1.3",
    "jupytext_version": "0.8.2"
   }
  },
  "kernelspec": {
   "display_name": "Python 3",
   "language": "python",
   "name": "python3"
  },
  "language_info": {
   "codemirror_mode": {
    "name": "ipython",
    "version": 3
   },
   "file_extension": ".py",
   "mimetype": "text/x-python",
   "name": "python",
   "nbconvert_exporter": "python",
   "pygments_lexer": "ipython3",
   "version": "3.6.6"
  }
 },
 "nbformat": 4,
 "nbformat_minor": 2
}
